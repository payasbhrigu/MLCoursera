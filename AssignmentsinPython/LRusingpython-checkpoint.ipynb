{
 "cells": [
  {
   "cell_type": "code",
   "execution_count": 216,
   "metadata": {},
   "outputs": [],
   "source": [
    "import numpy as np\n",
    "import pandas as pd\n",
    "import matplotlib.pyplot as plt"
   ]
  },
  {
   "cell_type": "code",
   "execution_count": 217,
   "metadata": {},
   "outputs": [],
   "source": [
    "df1=pd.read_csv(\"ex1data1.txt\",sep=\",\",header=None)\n",
    "x=df1[0]\n",
    "y=df1[1]"
   ]
  },
  {
   "cell_type": "code",
   "execution_count": 218,
   "metadata": {},
   "outputs": [
    {
     "data": {
      "text/plain": [
       "array([[0],\n",
       "       [0]])"
      ]
     },
     "execution_count": 218,
     "metadata": {},
     "output_type": "execute_result"
    }
   ],
   "source": [
    "theta=np.array([0,0]).reshape(2,1)\n",
    "theta"
   ]
  },
  {
   "cell_type": "code",
   "execution_count": 219,
   "metadata": {},
   "outputs": [],
   "source": [
    "X=np.array(np.ones(np.size(x.values)).reshape(np.size(x.values),1))\n",
    "X=np.insert(X,1,x.values,axis=1)"
   ]
  },
  {
   "cell_type": "code",
   "execution_count": 220,
   "metadata": {},
   "outputs": [],
   "source": [
    "h=np.matmul(X,theta)"
   ]
  },
  {
   "cell_type": "code",
   "execution_count": 221,
   "metadata": {},
   "outputs": [
    {
     "data": {
      "image/png": "[encoded data removed]",
      "text/plain": [
       "<Figure size 432x288 with 1 Axes>"
      ]
     },
     "metadata": {},
     "output_type": "display_data"
    }
   ],
   "source": [
    "plt.scatter(x,y)\n",
    "plt.plot(x,h,'r')\n",
    "plt.show()"
   ]
  },
  {
   "cell_type": "code",
   "execution_count": 222,
   "metadata": {},
   "outputs": [],
   "source": [
    "d=h-y.values.reshape(np.size(y.values),1)  #h-y\n",
    "J_history=np.array(np.zeros(1500)).reshape(1500,1)"
   ]
  },
  {
   "cell_type": "code",
   "execution_count": 223,
   "metadata": {},
   "outputs": [
    {
     "data": {
      "text/plain": [
       "[[6.7371904648700065],\n",
       " [5.931593568604956],\n",
       " [5.901154707081388],\n",
       " [5.895228586444221],\n",
       " [5.89009494311733],\n",
       " [5.885004158443647],\n",
       " [5.879932480491418],\n",
       " [5.874879094762575],\n",
       " [5.869843911806386],\n",
       " [5.86482686531293],\n",
       " [5.859827889932181],\n",
       " [5.85484692057229],\n",
       " [5.849883892376588],\n",
       " [5.844938740722034],\n",
       " [5.840011401218361],\n",
       " [5.8351018097072265],\n",
       " [5.830209902261388],\n",
       " [5.825335615183863],\n",
       " [5.820478885007099],\n",
       " [5.815639648492154],\n",
       " [5.81081784262787],\n",
       " [5.806013404630044],\n",
       " [5.801226271940628],\n",
       " [5.796456382226898],\n",
       " [5.7917036733806535],\n",
       " [5.786968083517396],\n",
       " [5.782249550975539],\n",
       " [5.777548014315596],\n",
       " [5.7728634123193805],\n",
       " [5.768195683989212],\n",
       " [5.76354476854712],\n",
       " [5.758910605434048],\n",
       " [5.754293134309077],\n",
       " [5.749692295048628],\n",
       " [5.745108027745684],\n",
       " [5.740540272709014],\n",
       " [5.735988970462381],\n",
       " [5.731454061743792],\n",
       " [5.726935487504702],\n",
       " [5.722433188909257],\n",
       " [5.717947107333528],\n",
       " [5.713477184364749],\n",
       " [5.709023361800549],\n",
       " [5.704585581648198],\n",
       " [5.700163786123856],\n",
       " [5.695757917651815],\n",
       " [5.691367918863752],\n",
       " [5.68699373259798],\n",
       " [5.682635301898707],\n",
       " [5.678292570015292]]"
      ]
     },
     "execution_count": 223,
     "metadata": {},
     "output_type": "execute_result"
    }
   ],
   "source": [
    "l=np.arange(0,1500)\n",
    "alpha=0.01\n",
    "for i in l:\n",
    "    h=np.matmul(X,theta)\n",
    "    d=h-y.values.reshape(np.size(y.values),1)\n",
    "    theta0=theta[0]-alpha*(1/np.size(y.values))*np.sum(d)\n",
    "    theta1=theta[1]-alpha*(1/np.size(y.values))*np.sum(d*x.values.reshape(np.size(x),1))\n",
    "    theta=np.array([theta0,theta1]).reshape(2,1)\n",
    "    h=np.matmul(X,theta)\n",
    "    d=h-y.values.reshape(np.size(y.values),1)\n",
    "    J_history[i]=(1/(2*np.size(y.values)))*np.sum(d*d)\n",
    "J=J_history.tolist()\n",
    "J"
   ]
  },
  {
   "cell_type": "code",
   "execution_count": 224,
   "metadata": {},
   "outputs": [
    {
     "data": {
      "text/plain": [
       "[<matplotlib.lines.Line2D at 0x8148f0>]"
      ]
     },
     "execution_count": 224,
     "metadata": {},
     "output_type": "execute_result"
    },
    {
     "data": {
      "image/png": "[encoded data removed]",
      "text/plain": [
       "<Figure size 432x288 with 1 Axes>"
      ]
     },
     "metadata": {},
     "output_type": "display_data"
    }
   ],
   "source": [
    "plt.plot(l,J)"
   ]
  },
  {
   "cell_type": "code",
   "execution_count": null,
   "metadata": {},
   "outputs": [],
   "source": []
  },
  {
   "cell_type": "code",
   "execution_count": null,
   "metadata": {},
   "outputs": [],
   "source": []
  }
 ],
 "metadata": {
  "kernelspec": {
   "display_name": "Python 3",
   "language": "python",
   "name": "python3"
  },
  "language_info": {
   "codemirror_mode": {
    "name": "ipython",
    "version": 3
   },
   "file_extension": ".py",
   "mimetype": "text/x-python",
   "name": "python",
   "nbconvert_exporter": "python",
   "pygments_lexer": "ipython3",
   "version": "3.6.3"
  }
 },
 "nbformat": 4,
 "nbformat_minor": 2
}
